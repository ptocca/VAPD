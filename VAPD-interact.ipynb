{
 "cells": [
  {
   "cell_type": "markdown",
   "metadata": {},
   "source": [
    "# Interactive VAPD exploration\n",
    "\n",
    "This notebook is meant to help exploring the properties of the VAPD.\n",
    "\n",
    "Scroll down, past the initial code, to Example 1"
   ]
  },
  {
   "cell_type": "code",
   "execution_count": 1,
   "metadata": {},
   "outputs": [],
   "source": [
    "import numpy as np\n",
    "from sklearn.isotonic import IsotonicRegression\n",
    "from sklearn.linear_model import LinearRegression"
   ]
  },
  {
   "cell_type": "code",
   "execution_count": 2,
   "metadata": {},
   "outputs": [],
   "source": [
    "import matplotlib.pyplot as plt\n",
    "%matplotlib notebook"
   ]
  },
  {
   "cell_type": "code",
   "execution_count": 3,
   "metadata": {},
   "outputs": [
    {
     "data": {
      "text/html": [
       "<style>.container { width:100% !important; }</style>"
      ],
      "text/plain": [
       "<IPython.core.display.HTML object>"
      ]
     },
     "metadata": {},
     "output_type": "display_data"
    },
    {
     "data": {
      "text/html": [
       "<style>.text_cell_render { font-size: 18pt; }</style>"
      ],
      "text/plain": [
       "<IPython.core.display.HTML object>"
      ]
     },
     "metadata": {},
     "output_type": "display_data"
    }
   ],
   "source": [
    "from IPython.core.display import display, HTML\n",
    "display(HTML(\"<style>.container { width:100% !important; }</style>\"))\n",
    "display(HTML('<style>.text_cell_render { font-size: 18pt; }</style>'))"
   ]
  },
  {
   "cell_type": "code",
   "execution_count": 4,
   "metadata": {},
   "outputs": [],
   "source": [
    "import matplotlib as mpl\n",
    "mpl.rcParams['figure.figsize']=(10,8)"
   ]
  },
  {
   "cell_type": "code",
   "execution_count": 5,
   "metadata": {},
   "outputs": [],
   "source": [
    "from ipywidgets import interact,FloatSlider,Layout"
   ]
  },
  {
   "cell_type": "code",
   "execution_count": 6,
   "metadata": {},
   "outputs": [],
   "source": [
    "from statsmodels.distributions.empirical_distribution import ECDF\n",
    "def showPredDistrib(x_test):\n",
    "    f,ax = plt.subplots(1,3,figsize=(10,6))\n",
    "    ax[0].plot(X,y,\".\")\n",
    "    ax[0].plot(X,s)\n",
    "    ax[0].vlines(x_test,ax[0].get_ylim()[0],ax[0].get_ylim()[1],'g')\n",
    "    ax[0].set_xlabel(\"$x$\")\n",
    "    ax[0].set_ylabel(\"$y,s(x)$\")\n",
    "\n",
    "    s_test = clf.predict(np.atleast_2d(x_test)).ravel()\n",
    "\n",
    "    ax[1].plot(s,g,\",\")\n",
    "    ax[1].set_xlabel(\"$s$\")\n",
    "    ax[1].set_ylabel(\"$g(s)$\")    \n",
    "    ax[1].vlines(s_test,ax[1].get_ylim()[0],ax[1].get_ylim()[1],'g')\n",
    "\n",
    "    g_test = ir.predict(s_test)\n",
    "    ys = y[g== g_test].ravel()\n",
    "    if len(ys)!=1:\n",
    "        ecdf = ECDF(ys)\n",
    "        ax[2].plot(ecdf.x,ecdf.y)\n",
    "    ax[2].set_xlim([-5,4])\n",
    "    ax[2].set_xlabel(\"$t$\")\n",
    "    ax[2].set_ylabel(\"$P[y \\leq t]$\")\n",
    "    \n",
    "    f.tight_layout()\n",
    "    \n",
    "    # f.setsize_inches(8,4)"
   ]
  },
  {
   "cell_type": "markdown",
   "metadata": {},
   "source": [
    "# Example 1 - Homoscedastic data\n",
    "\n",
    "Data $(x_i,y_i)$ corresponding to a straight line with slope -2 with additive Gaussian noise is generated.\n",
    "\n",
    "A linear regression model is fitted obtaining predictions $s_i$\n",
    "\n",
    "An Isotonic Regression between $s$ and $y$ is fitted obtaining predictions $g_i$."
   ]
  },
  {
   "cell_type": "code",
   "execution_count": 7,
   "metadata": {},
   "outputs": [],
   "source": [
    "np.random.seed(101)\n",
    "X = np.linspace(0,1,1001).reshape(-1,1)\n",
    "y = -2*X+np.random.normal(size=X.shape)"
   ]
  },
  {
   "cell_type": "code",
   "execution_count": 8,
   "metadata": {},
   "outputs": [],
   "source": [
    "clf = LinearRegression()\n",
    "clf.fit(X,y)\n",
    "s = clf.predict(X)\n",
    "# s = y\n",
    "\n",
    "ir = IsotonicRegression(increasing=True)\n",
    "ir.fit(s.ravel(),y.ravel())\n",
    "\n",
    "g = ir.predict(s.ravel())"
   ]
  },
  {
   "cell_type": "markdown",
   "metadata": {},
   "source": [
    "Below there is an interactive plot, with a slider where one can set the value of the $x_{test}$.\n",
    "\n",
    "The left plot show the data (blue) and the regression (red); the vertical green line correspond to the test point selected by the slider.\n",
    "\n",
    "The middle plot is the Isotonic Regression $g(s)$; the vertical line is the $s(x)$ corresponding to the test point.\n",
    "\n",
    "The right plot is the predictive distribution of $y$, calculated as ECDF $F_Y(t) = \\mathbb P[Y \\leq t]$ on the element of the taxonomy induced by the Isotonic Regression.\n",
    "(The taxonomy consists of the sets of $x$ with the same value of $g(s(x))$)"
   ]
  },
  {
   "cell_type": "code",
   "execution_count": 9,
   "metadata": {},
   "outputs": [
    {
     "data": {
      "application/vnd.jupyter.widget-view+json": {
       "model_id": "691ea0e5717d4ae580b3f4c83d68c60a",
       "version_major": 2,
       "version_minor": 0
      },
      "text/html": [
       "<p>Failed to display Jupyter Widget of type <code>interactive</code>.</p>\n",
       "<p>\n",
       "  If you're reading this message in the Jupyter Notebook or JupyterLab Notebook, it may mean\n",
       "  that the widgets JavaScript is still loading. If this message persists, it\n",
       "  likely means that the widgets JavaScript library is either not installed or\n",
       "  not enabled. See the <a href=\"https://ipywidgets.readthedocs.io/en/stable/user_install.html\">Jupyter\n",
       "  Widgets Documentation</a> for setup instructions.\n",
       "</p>\n",
       "<p>\n",
       "  If you're reading this message in another frontend (for example, a static\n",
       "  rendering on GitHub or <a href=\"https://nbviewer.jupyter.org/\">NBViewer</a>),\n",
       "  it may mean that your frontend doesn't currently support widgets.\n",
       "</p>\n"
      ],
      "text/plain": [
       "interactive(children=(FloatSlider(value=0.5, description='x_test', layout=Layout(width='50%'), max=1.0, step=0.005), Output()), _dom_classes=('widget-interact',))"
      ]
     },
     "metadata": {},
     "output_type": "display_data"
    }
   ],
   "source": [
    "interact(showPredDistrib,x_test = FloatSlider(value=0.5,min=0,max=1,step=0.005,layout=Layout(width='50%')));"
   ]
  },
  {
   "cell_type": "markdown",
   "metadata": {},
   "source": [
    "One obvious downside of this taxonomy is that there are small categories. In some cases, the categories contain one element only."
   ]
  },
  {
   "cell_type": "markdown",
   "metadata": {},
   "source": [
    "# Heteroscedastic data\n",
    "\n",
    "The following shows that the predictive distribution is specific and captures a variation of variance in the data."
   ]
  },
  {
   "cell_type": "code",
   "execution_count": 10,
   "metadata": {},
   "outputs": [],
   "source": [
    "X = np.linspace(0,1,1001).reshape(-1,1)\n",
    "y = -2*X+np.random.normal(size=X.shape)*(X*1+0.5)\n",
    "\n",
    "clf = LinearRegression()\n",
    "clf.fit(X,y)\n",
    "s = clf.predict(X)\n",
    "# s = y\n",
    "\n",
    "ir = IsotonicRegression(increasing=True)\n",
    "ir.fit(s.ravel(),y.ravel())\n",
    "\n",
    "g = ir.predict(s.ravel())"
   ]
  },
  {
   "cell_type": "code",
   "execution_count": 11,
   "metadata": {},
   "outputs": [
    {
     "data": {
      "application/vnd.jupyter.widget-view+json": {
       "model_id": "8397b64d4bb84377a14bac3a1db99c93",
       "version_major": 2,
       "version_minor": 0
      },
      "text/html": [
       "<p>Failed to display Jupyter Widget of type <code>interactive</code>.</p>\n",
       "<p>\n",
       "  If you're reading this message in the Jupyter Notebook or JupyterLab Notebook, it may mean\n",
       "  that the widgets JavaScript is still loading. If this message persists, it\n",
       "  likely means that the widgets JavaScript library is either not installed or\n",
       "  not enabled. See the <a href=\"https://ipywidgets.readthedocs.io/en/stable/user_install.html\">Jupyter\n",
       "  Widgets Documentation</a> for setup instructions.\n",
       "</p>\n",
       "<p>\n",
       "  If you're reading this message in another frontend (for example, a static\n",
       "  rendering on GitHub or <a href=\"https://nbviewer.jupyter.org/\">NBViewer</a>),\n",
       "  it may mean that your frontend doesn't currently support widgets.\n",
       "</p>\n"
      ],
      "text/plain": [
       "interactive(children=(FloatSlider(value=0.5, description='x_test', layout=Layout(width='50%'), max=1.0, step=0.005), Output()), _dom_classes=('widget-interact',))"
      ]
     },
     "metadata": {},
     "output_type": "display_data"
    }
   ],
   "source": [
    "interact(showPredDistrib,x_test = FloatSlider(value=0.5,min=0,max=1,step=0.005,layout=Layout(width='50%')));\n"
   ]
  },
  {
   "cell_type": "markdown",
   "metadata": {},
   "source": [
    "# Non linear data\n",
    "\n",
    "\n",
    "In the cases above, the dependent variable had a linear relation. That made $g()$ be ideally $g(x)=x$. This seemed to justify the choice of a monotonic $g()$.\n",
    "\n",
    "What if the error between $s(x)$ and $y(x)$ changed \"direction\" for different values of $s$?\n",
    "\n",
    "The mapping g() that reduces the error may no longer be monotonic.\n",
    "\n",
    "I try to create such a situation below.\n",
    "\n",
    "Observe the shape of $g()$\n",
    "\n",
    "Is this desirable behaviour?"
   ]
  },
  {
   "cell_type": "code",
   "execution_count": 12,
   "metadata": {},
   "outputs": [],
   "source": [
    "X = np.linspace(0,1,1001).reshape(-1,1)\n",
    "y = np.sin(np.pi*X)+0.2*np.random.normal(size=X.shape)\n",
    "\n",
    "clf = LinearRegression()\n",
    "clf.fit(X,y)\n",
    "s = clf.predict(X)\n",
    "# s = y\n",
    "\n",
    "ir = IsotonicRegression(increasing=True)\n",
    "ir.fit(s.ravel(),y.ravel())\n",
    "\n",
    "g = ir.predict(s.ravel())"
   ]
  },
  {
   "cell_type": "code",
   "execution_count": 13,
   "metadata": {},
   "outputs": [
    {
     "data": {
      "application/vnd.jupyter.widget-view+json": {
       "model_id": "6ff0493000604859aabb5d59351246f1",
       "version_major": 2,
       "version_minor": 0
      },
      "text/html": [
       "<p>Failed to display Jupyter Widget of type <code>interactive</code>.</p>\n",
       "<p>\n",
       "  If you're reading this message in the Jupyter Notebook or JupyterLab Notebook, it may mean\n",
       "  that the widgets JavaScript is still loading. If this message persists, it\n",
       "  likely means that the widgets JavaScript library is either not installed or\n",
       "  not enabled. See the <a href=\"https://ipywidgets.readthedocs.io/en/stable/user_install.html\">Jupyter\n",
       "  Widgets Documentation</a> for setup instructions.\n",
       "</p>\n",
       "<p>\n",
       "  If you're reading this message in another frontend (for example, a static\n",
       "  rendering on GitHub or <a href=\"https://nbviewer.jupyter.org/\">NBViewer</a>),\n",
       "  it may mean that your frontend doesn't currently support widgets.\n",
       "</p>\n"
      ],
      "text/plain": [
       "interactive(children=(FloatSlider(value=0.5, description='x_test', layout=Layout(width='50%'), max=1.0, step=0.005), Output()), _dom_classes=('widget-interact',))"
      ]
     },
     "metadata": {},
     "output_type": "display_data"
    }
   ],
   "source": [
    "interact(showPredDistrib,x_test = FloatSlider(value=0.5,min=0,max=1,step=0.005,layout=Layout(width='50%')));"
   ]
  },
  {
   "cell_type": "code",
   "execution_count": null,
   "metadata": {},
   "outputs": [],
   "source": []
  }
 ],
 "metadata": {
  "kernelspec": {
   "display_name": "Python 3",
   "language": "python",
   "name": "python3"
  },
  "language_info": {
   "codemirror_mode": {
    "name": "ipython",
    "version": 3
   },
   "file_extension": ".py",
   "mimetype": "text/x-python",
   "name": "python",
   "nbconvert_exporter": "python",
   "pygments_lexer": "ipython3",
   "version": "3.6.4"
  },
  "widgets": {
   "application/vnd.jupyter.widget-state+json": {
    "state": {},
    "version_major": 2,
    "version_minor": 0
   }
  }
 },
 "nbformat": 4,
 "nbformat_minor": 2
}
